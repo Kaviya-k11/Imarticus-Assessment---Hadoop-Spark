{
 "cells": [
  {
   "cell_type": "markdown",
   "metadata": {},
   "source": [
    "## Analysis Boston Dataset using Pyspark"
   ]
  },
  {
   "cell_type": "code",
   "execution_count": 2,
   "metadata": {
    "id": "cHRemicxZHMy"
   },
   "outputs": [],
   "source": [
    "import pandas as pd\n",
    "import numpy as np\n",
    "from pyspark.sql import SparkSession"
   ]
  },
  {
   "cell_type": "code",
   "execution_count": 7,
   "metadata": {
    "id": "7nbb2Fgyac19"
   },
   "outputs": [],
   "source": [
    "spark=SparkSession.builder.appName('Hive').getOrCreate()"
   ]
  },
  {
   "cell_type": "code",
   "execution_count": 8,
   "metadata": {
    "colab": {
     "base_uri": "https://localhost:8080/",
     "height": 219
    },
    "id": "uRMfl4dEakvX",
    "outputId": "0bd48466-d44d-4ee9-8651-ef5f4406d155"
   },
   "outputs": [
    {
     "data": {
      "text/html": [
       "\n",
       "            <div>\n",
       "                <p><b>SparkSession - in-memory</b></p>\n",
       "                \n",
       "        <div>\n",
       "            <p><b>SparkContext</b></p>\n",
       "\n",
       "            <p><a href=\"http://DESKTOP-5OJRQ4T:4040\">Spark UI</a></p>\n",
       "\n",
       "            <dl>\n",
       "              <dt>Version</dt>\n",
       "                <dd><code>v3.2.1</code></dd>\n",
       "              <dt>Master</dt>\n",
       "                <dd><code>local[*]</code></dd>\n",
       "              <dt>AppName</dt>\n",
       "                <dd><code>Questions</code></dd>\n",
       "            </dl>\n",
       "        </div>\n",
       "        \n",
       "            </div>\n",
       "        "
      ],
      "text/plain": [
       "<pyspark.sql.session.SparkSession at 0x1d495ff3520>"
      ]
     },
     "execution_count": 8,
     "metadata": {},
     "output_type": "execute_result"
    }
   ],
   "source": [
    "spark"
   ]
  },
  {
   "cell_type": "markdown",
   "metadata": {},
   "source": [
    "### Read the given CSV file in a Hive table \n"
   ]
  },
  {
   "cell_type": "markdown",
   "metadata": {
    "id": "_jtYQ5cbfsU4"
   },
   "source": [
    "### Read the data from Hive table as spark dataframe"
   ]
  },
  {
   "cell_type": "code",
   "execution_count": 9,
   "metadata": {
    "colab": {
     "base_uri": "https://localhost:8080/"
    },
    "id": "GPa18K05bjG7",
    "outputId": "f7b97f90-06f3-404c-b20e-26af5bc0ad83"
   },
   "outputs": [
    {
     "name": "stdout",
     "output_type": "stream",
     "text": [
      "+-----------+----+-----------+----+-----------+-----------+-----------+-----------+---+---+-----------+-----------+-----------+-----------+\n",
      "|       CRIM|  ZN|      INDUS|CHAS|        NOX|         RM|        AGE|        DIS|RAD|TAX|         PT|          B|      LSTAT|         MV|\n",
      "+-----------+----+-----------+----+-----------+-----------+-----------+-----------+---+---+-----------+-----------+-----------+-----------+\n",
      "|    0.00632|18.0|2.309999943|   0|0.537999988|6.574999809|65.19999695|4.090000153|  1|296|15.30000019|396.8999939|4.980000019|       24.0|\n",
      "|0.027310001| 0.0|7.070000172|   0|0.469000012|6.421000004|78.90000153|4.967100143|  2|242|17.79999924|396.8999939|9.140000343|21.60000038|\n",
      "|    0.02729| 0.0|7.070000172|   0|0.469000012|7.184999943|61.09999847|4.967100143|  2|242|17.79999924|392.8299866| 4.03000021|34.70000076|\n",
      "|0.032370001| 0.0|2.180000067|   0|0.458000004|6.998000145|45.79999924|6.062200069|  3|222|18.70000076|394.6300049|2.940000057|33.40000153|\n",
      "|0.069049999| 0.0|2.180000067|   0|0.458000004|7.146999836|54.20000076|6.062200069|  3|222|18.70000076|396.8999939|5.329999924|36.20000076|\n",
      "+-----------+----+-----------+----+-----------+-----------+-----------+-----------+---+---+-----------+-----------+-----------+-----------+\n",
      "only showing top 5 rows\n",
      "\n"
     ]
    }
   ],
   "source": [
    "emp = spark.read.csv('C:/Users/admin/Desktop/Imarticus/Big Data Hadoop _ Spark Exam/Dataset/boston.csv',header='true', \n",
    "                      inferSchema='true')\n",
    "emp.show(5)"
   ]
  },
  {
   "cell_type": "markdown",
   "metadata": {
    "id": "7hLM4i1Vf68l"
   },
   "source": [
    "### Get the correlation between dependent and independent variables"
   ]
  },
  {
   "cell_type": "code",
   "execution_count": 10,
   "metadata": {
    "colab": {
     "base_uri": "https://localhost:8080/"
    },
    "id": "SVn9dqrZbqUV",
    "outputId": "7cf9d92e-a6f1-405a-8756-d5036cc40514"
   },
   "outputs": [
    {
     "name": "stdout",
     "output_type": "stream",
     "text": [
      "Correlation to MV for  CRIM -0.3883046116575088\n",
      "Correlation to MV for  ZN 0.36044534463752903\n",
      "Correlation to MV for  INDUS -0.48372517128143383\n",
      "Correlation to MV for  CHAS 0.17526017775291847\n",
      "Correlation to MV for  NOX -0.4273207763683772\n",
      "Correlation to MV for  RM 0.695359937127267\n",
      "Correlation to MV for  AGE -0.37695456714288667\n",
      "Correlation to MV for  DIS 0.24992873873512172\n",
      "Correlation to MV for  RAD -0.3816262315669168\n",
      "Correlation to MV for  TAX -0.46853593528654536\n",
      "Correlation to MV for  PT -0.5077867038116085\n",
      "Correlation to MV for  B 0.3334608226834164\n",
      "Correlation to MV for  LSTAT -0.7376627294671615\n",
      "Correlation to MV for  MV 1.0\n"
     ]
    }
   ],
   "source": [
    "import six\n",
    "for i in emp.columns:\n",
    "    if not( isinstance(emp.select(i).take(1)[0][0], six.string_types)):\n",
    "        print( \"Correlation to MV for \", i, emp.stat.corr('MV',i))"
   ]
  },
  {
   "cell_type": "code",
   "execution_count": 11,
   "metadata": {
    "id": "U9Xh4UT3cmO-"
   },
   "outputs": [],
   "source": [
    "from pyspark.ml.feature import VectorAssembler\n",
    "vectorAssembler = VectorAssembler(inputCols = ['CRIM', 'ZN', 'INDUS', 'CHAS', 'NOX', 'RM', 'AGE', 'DIS', 'RAD', 'TAX', 'PT', 'B', 'LSTAT'], outputCol = 'features')\n"
   ]
  },
  {
   "cell_type": "code",
   "execution_count": 15,
   "metadata": {
    "id": "EgmcFO1KddVM"
   },
   "outputs": [
    {
     "data": {
      "text/plain": [
       "DataFrame[CRIM: double, ZN: double, INDUS: double, CHAS: int, NOX: double, RM: double, AGE: double, DIS: double, RAD: int, TAX: int, PT: double, B: double, LSTAT: double, MV: double, features: vector]"
      ]
     },
     "execution_count": 15,
     "metadata": {},
     "output_type": "execute_result"
    }
   ],
   "source": [
    "vhouse_df = vectorAssembler.transform(emp)\n",
    "vhouse_df"
   ]
  },
  {
   "cell_type": "code",
   "execution_count": 16,
   "metadata": {
    "colab": {
     "base_uri": "https://localhost:8080/"
    },
    "id": "PbVn_p2BdBam",
    "outputId": "70102cef-5e31-4754-f841-25be3a2f3d94"
   },
   "outputs": [
    {
     "name": "stdout",
     "output_type": "stream",
     "text": [
      "+--------------------+-----------+\n",
      "|            features|         MV|\n",
      "+--------------------+-----------+\n",
      "|[0.00632,18.0,2.3...|       24.0|\n",
      "|[0.027310001,0.0,...|21.60000038|\n",
      "|[0.02729,0.0,7.07...|34.70000076|\n",
      "+--------------------+-----------+\n",
      "only showing top 3 rows\n",
      "\n"
     ]
    }
   ],
   "source": [
    "vhouse_df =vhouse_df.select(['features', 'MV'])\n",
    "vhouse_df.show(3)"
   ]
  },
  {
   "cell_type": "markdown",
   "metadata": {
    "id": "AKRHhXiOgEvk"
   },
   "source": [
    "### Build a linear regression model to predict house price"
   ]
  },
  {
   "cell_type": "code",
   "execution_count": 17,
   "metadata": {
    "id": "2guzwKyCdf4p"
   },
   "outputs": [],
   "source": [
    "splits = vhouse_df.randomSplit([0.7, 0.3])\n",
    "train_df = splits[0]\n",
    "test_df = splits[1]"
   ]
  },
  {
   "cell_type": "markdown",
   "metadata": {},
   "source": [
    "### Linear Regression Model"
   ]
  },
  {
   "cell_type": "code",
   "execution_count": 18,
   "metadata": {
    "colab": {
     "base_uri": "https://localhost:8080/"
    },
    "id": "PmDukHE2e9Ui",
    "outputId": "e11b2cc4-c735-4da4-d0f8-df78938de171",
    "scrolled": true
   },
   "outputs": [
    {
     "name": "stdout",
     "output_type": "stream",
     "text": [
      "Coefficients: [-0.06284902566899833,0.002698801811261264,0.0,3.484220960853243,-2.3170010030810446,4.4178728702029915,0.0,-0.47879159961283463,0.0,0.0,-0.7407192262358648,0.007846610376972775,-0.5995908537049001]\n",
      "Intercept: 16.257743370146855\n"
     ]
    }
   ],
   "source": [
    "from pyspark.ml.regression import LinearRegression\n",
    "lr = LinearRegression(featuresCol = 'features', labelCol='MV', maxIter=10, regParam=0.3, elasticNetParam=0.8)\n",
    "lr_model = lr.fit(train_df)\n",
    "print(\"Coefficients: \" + str(lr_model.coefficients))\n",
    "print(\"Intercept: \" + str(lr_model.intercept))"
   ]
  },
  {
   "cell_type": "markdown",
   "metadata": {
    "id": "0EEFqZyAgN76"
   },
   "source": [
    "### RMSE and R-squared values"
   ]
  },
  {
   "cell_type": "code",
   "execution_count": 36,
   "metadata": {},
   "outputs": [
    {
     "name": "stdout",
     "output_type": "stream",
     "text": [
      "r2_value : 0.7175940589671639\n",
      "RMSE_score : 4.928952316874904\n"
     ]
    }
   ],
   "source": [
    "trainingSummary = lr_model.summary\n",
    "r2_value=trainingSummary.r2\n",
    "print(\"r2_value :\",r2_value  )\n",
    "RMSE_score=trainingSummary.rootMeanSquaredError\n",
    "print(\"RMSE_score :\", RMSE_score)"
   ]
  },
  {
   "cell_type": "code",
   "execution_count": 37,
   "metadata": {},
   "outputs": [
    {
     "data": {
      "text/html": [
       "<div>\n",
       "<style scoped>\n",
       "    .dataframe tbody tr th:only-of-type {\n",
       "        vertical-align: middle;\n",
       "    }\n",
       "\n",
       "    .dataframe tbody tr th {\n",
       "        vertical-align: top;\n",
       "    }\n",
       "\n",
       "    .dataframe thead th {\n",
       "        text-align: right;\n",
       "    }\n",
       "</style>\n",
       "<table border=\"1\" class=\"dataframe\">\n",
       "  <thead>\n",
       "    <tr style=\"text-align: right;\">\n",
       "      <th></th>\n",
       "      <th>Model</th>\n",
       "      <th>Accuracy Score</th>\n",
       "    </tr>\n",
       "  </thead>\n",
       "  <tbody>\n",
       "    <tr>\n",
       "      <th>0</th>\n",
       "      <td>RMSE</td>\n",
       "      <td>4.928952</td>\n",
       "    </tr>\n",
       "    <tr>\n",
       "      <th>1</th>\n",
       "      <td>R-Squared Value</td>\n",
       "      <td>0.717594</td>\n",
       "    </tr>\n",
       "  </tbody>\n",
       "</table>\n",
       "</div>"
      ],
      "text/plain": [
       "             Model  Accuracy Score\n",
       "0             RMSE        4.928952\n",
       "1  R-Squared Value        0.717594"
      ]
     },
     "execution_count": 37,
     "metadata": {},
     "output_type": "execute_result"
    }
   ],
   "source": [
    "df_file= pd.DataFrame()\n",
    "df_file['Model'] = ['RMSE','R-Squared Value']\n",
    "df_file['Accuracy Score'] = [RMSE_score,r2_value]\n",
    "df_file"
   ]
  },
  {
   "cell_type": "code",
   "execution_count": 39,
   "metadata": {},
   "outputs": [
    {
     "data": {
      "text/plain": [
       "<BarContainer object of 2 artists>"
      ]
     },
     "execution_count": 39,
     "metadata": {},
     "output_type": "execute_result"
    },
    {
     "data": {
      "image/png": "[encoded data removed]",
      "text/plain": [
       "<Figure size 432x288 with 1 Axes>"
      ]
     },
     "metadata": {
      "needs_background": "light"
     },
     "output_type": "display_data"
    }
   ],
   "source": [
    "import matplotlib.pyplot as plt\n",
    "plt.bar(x=df_file['Model'],height=df_file['Accuracy Score'])\n"
   ]
  },
  {
   "cell_type": "code",
   "execution_count": 20,
   "metadata": {
    "colab": {
     "base_uri": "https://localhost:8080/"
    },
    "id": "q-SnkVLhfGoF",
    "outputId": "a175ad07-de85-4452-df8b-25b277724f41"
   },
   "outputs": [
    {
     "name": "stdout",
     "output_type": "stream",
     "text": [
      "+-------+------------------+\n",
      "|summary|                MV|\n",
      "+-------+------------------+\n",
      "|  count|               365|\n",
      "|   mean|22.609041109479453|\n",
      "| stddev| 9.287812572134428|\n",
      "|    min|               5.0|\n",
      "|    max|              50.0|\n",
      "+-------+------------------+\n",
      "\n"
     ]
    }
   ],
   "source": [
    "train_df.describe().show()"
   ]
  },
  {
   "cell_type": "code",
   "execution_count": 22,
   "metadata": {
    "colab": {
     "base_uri": "https://localhost:8080/"
    },
    "id": "BV97MLAEfJ3i",
    "outputId": "134bce12-b5e6-472a-84b1-5263938cbd8f"
   },
   "outputs": [
    {
     "name": "stdout",
     "output_type": "stream",
     "text": [
      "+------------------+-----------+--------------------+\n",
      "|        prediction|         MV|            features|\n",
      "+------------------+-----------+--------------------+\n",
      "| 30.44589553027895|32.20000076|[0.00906,90.0,2.9...|\n",
      "| 27.66613713132275|       24.5|[0.01501,80.0,2.0...|\n",
      "| 42.37491554088944|       50.0|[0.01501,90.0,1.2...|\n",
      "|26.176454229714864|24.70000076|[0.02055,85.0,0.7...|\n",
      "| 28.97557045122967|30.79999924|[0.027629999,75.0...|\n",
      "+------------------+-----------+--------------------+\n",
      "only showing top 5 rows\n",
      "\n",
      "R Squared (R2) on test data = 0.690535\n"
     ]
    }
   ],
   "source": [
    "lr_pred = lr_model.transform(test_df)\n",
    "lr_pred.select(\"prediction\",\"MV\",\"features\").show(5)\n",
    "from pyspark.ml.evaluation import RegressionEvaluator\n",
    "lr_eval = RegressionEvaluator(predictionCol=\"prediction\", \\\n",
    "                 labelCol=\"MV\",metricName=\"r2\")\n",
    "print(\"R Squared (R2) on test data = %g\" % lr_eval.evaluate(lr_pred ))"
   ]
  },
  {
   "cell_type": "code",
   "execution_count": 23,
   "metadata": {
    "colab": {
     "base_uri": "https://localhost:8080/"
    },
    "id": "2LGQGt7BfLrm",
    "outputId": "11250059-c15b-4c6e-f742-4ad12aba49aa"
   },
   "outputs": [
    {
     "name": "stdout",
     "output_type": "stream",
     "text": [
      "Root Mean Squared Error (RMSE) on test data = 4.982\n"
     ]
    }
   ],
   "source": [
    "result = lr_model.evaluate(test_df)\n",
    "print(\"Root Mean Squared Error (RMSE) on test data = %g\" %  result.rootMeanSquaredError)"
   ]
  },
  {
   "cell_type": "code",
   "execution_count": 24,
   "metadata": {
    "colab": {
     "base_uri": "https://localhost:8080/"
    },
    "id": "3QCF_nGnfQFo",
    "outputId": "be42361f-7909-44dc-d7bd-3c9adedc8c3d"
   },
   "outputs": [
    {
     "name": "stdout",
     "output_type": "stream",
     "text": [
      "numIterations: 10\n",
      "objectiveHistory: [0.5000000000000004, 0.43466911030374783, 0.24227814433099276, 0.21612025036219398, 0.18238826493101462, 0.17929612299796802, 0.1785729804567798, 0.17793370324775437, 0.17700321866913502, 0.17674374504467402, 0.1766474854735713]\n"
     ]
    },
    {
     "name": "stderr",
     "output_type": "stream",
     "text": [
      "C:\\Users\\admin\\anaconda3\\lib\\site-packages\\pyspark\\sql\\context.py:125: FutureWarning: Deprecated in 3.0.0. Use SparkSession.builder.getOrCreate() instead.\n",
      "  warnings.warn(\n"
     ]
    },
    {
     "name": "stdout",
     "output_type": "stream",
     "text": [
      "+--------------------+\n",
      "|           residuals|\n",
      "+--------------------+\n",
      "| -6.9439864929212405|\n",
      "|  -5.343612597286118|\n",
      "| 0.42813135192142937|\n",
      "|  5.0088370477277735|\n",
      "|  2.2716476061409736|\n",
      "|  11.772424503442068|\n",
      "| 0.36949826868293556|\n",
      "| -1.3617798338030944|\n",
      "|   9.126780095744508|\n",
      "|  2.9067042672215955|\n",
      "|  1.7085542601563475|\n",
      "|  -3.099174584964043|\n",
      "|   6.210119231854119|\n",
      "|-0.09848398518877488|\n",
      "|  10.959400854079504|\n",
      "|   5.815445655391102|\n",
      "| 0.03171800864151919|\n",
      "|  -10.54428420733225|\n",
      "|  -3.993345684946174|\n",
      "|   2.685204621482022|\n",
      "+--------------------+\n",
      "only showing top 20 rows\n",
      "\n"
     ]
    }
   ],
   "source": [
    "print(\"numIterations: %d\" % trainingSummary.totalIterations)\n",
    "print(\"objectiveHistory: %s\" % str(trainingSummary.objectiveHistory))\n",
    "trainingSummary.residuals.show()"
   ]
  },
  {
   "cell_type": "code",
   "execution_count": 25,
   "metadata": {
    "colab": {
     "base_uri": "https://localhost:8080/"
    },
    "id": "Bv-JnEUZfRwe",
    "outputId": "f3643db8-24fe-47fe-c9dc-92b3d9b6c5ae"
   },
   "outputs": [
    {
     "name": "stdout",
     "output_type": "stream",
     "text": [
      "+------------------+-----------+--------------------+\n",
      "|        prediction|         MV|            features|\n",
      "+------------------+-----------+--------------------+\n",
      "| 30.44589553027895|32.20000076|[0.00906,90.0,2.9...|\n",
      "| 27.66613713132275|       24.5|[0.01501,80.0,2.0...|\n",
      "| 42.37491554088944|       50.0|[0.01501,90.0,1.2...|\n",
      "|26.176454229714864|24.70000076|[0.02055,85.0,0.7...|\n",
      "| 28.97557045122967|30.79999924|[0.027629999,75.0...|\n",
      "|26.845917882265294|       25.0|[0.028750001,28.0...|\n",
      "|20.221234035152413|       18.5|[0.030409999,0.0,...|\n",
      "|30.516636154886804|34.90000153|[0.031500001,95.0...|\n",
      "| 30.69052765039332|33.40000153|[0.032370001,0.0,...|\n",
      "| 27.48381132653884|24.10000038|[0.034449998,82.5...|\n",
      "|28.434185659501622|27.89999962|[0.036150001,80.0...|\n",
      "|23.892391427899476|20.70000076|[0.037379999,0.0,...|\n",
      "|24.415540794757376|20.60000038|[0.042939998,28.0...|\n",
      "| 22.98433326465843|20.60000038|[0.04527,0.0,11.9...|\n",
      "|24.443837486876276|19.79999924|[0.04544,0.0,3.24...|\n",
      "|  25.8210169217394|23.29999924|[0.045600001,0.0,...|\n",
      "| 24.79463335461232|23.89999962|[0.050590001,0.0,...|\n",
      "| 21.36108324485145|       22.5|[0.051879998,0.0,...|\n",
      "|30.596397370582963|36.09999847|[0.055149999,33.0...|\n",
      "| 31.98565983032973|       29.0|[0.055610001,70.0...|\n",
      "+------------------+-----------+--------------------+\n",
      "only showing top 20 rows\n",
      "\n"
     ]
    }
   ],
   "source": [
    "pred = lr_model.transform(test_df)\n",
    "pred.select(\"prediction\",\"MV\",\"features\").show()"
   ]
  },
  {
   "cell_type": "code",
   "execution_count": 26,
   "metadata": {
    "colab": {
     "base_uri": "https://localhost:8080/"
    },
    "id": "2RkzYeiFfUP9",
    "outputId": "681e9250-ea7a-4123-8262-710f460e209e"
   },
   "outputs": [
    {
     "name": "stdout",
     "output_type": "stream",
     "text": [
      "Root Mean Squared Error (RMSE) on test data = 4.93032\n"
     ]
    }
   ],
   "source": [
    "from pyspark.ml.regression import DecisionTreeRegressor\n",
    "dt = DecisionTreeRegressor(featuresCol ='features', labelCol = 'MV')\n",
    "dt_model = dt.fit(train_df)\n",
    "dt_pred = dt_model.transform(test_df)\n",
    "dt_eval = RegressionEvaluator(\n",
    "    labelCol=\"MV\", predictionCol=\"prediction\", metricName=\"rmse\")\n",
    "rmse = dt_eval.evaluate(dt_pred)\n",
    "print(\"Root Mean Squared Error (RMSE) on test data = %g\" % rmse)"
   ]
  },
  {
   "cell_type": "code",
   "execution_count": null,
   "metadata": {
    "id": "Bw2dZQtCfXa9"
   },
   "outputs": [],
   "source": []
  }
 ],
 "metadata": {
  "colab": {
   "name": "PYSPARK EXAM",
   "provenance": []
  },
  "kernelspec": {
   "display_name": "Python 3 (ipykernel)",
   "language": "python",
   "name": "python3"
  },
  "language_info": {
   "codemirror_mode": {
    "name": "ipython",
    "version": 3
   },
   "file_extension": ".py",
   "mimetype": "text/x-python",
   "name": "python",
   "nbconvert_exporter": "python",
   "pygments_lexer": "ipython3",
   "version": "3.9.7"
  }
 },
 "nbformat": 4,
 "nbformat_minor": 1
}
